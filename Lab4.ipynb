{
 "cells": [
  {
   "cell_type": "markdown",
   "metadata": {},
   "source": [
    "<center> <img src=\"http://oci02.img.iteso.mx/identidad_de_instancia_2018/ITESO/Logos%20ITESO/Logo-ITESO-Principal.jpg\" align=\"center\" width=\"960\" height=\"480\"/> </center>"
   ]
  },
  {
   "cell_type": "markdown",
   "metadata": {},
   "source": [
    "<font size=6> MICROESTRUCTURA Y SISTEMAS DE TRADING  </font> <br>\n",
    "\n",
    "<font size = 5> Lab 4  </font><br>\n",
    "\n",
    "<font size=5> IF Luis Enrique Sánchez Ruiz </font> <br>\n",
    "\n",
    "<font size = 4> GitHub: <a href='https://github.com/luisen17/lab4.git'>Link</a></font>"
   ]
  },
  {
   "cell_type": "markdown",
   "metadata": {},
   "source": [
    "# Laboratorio 4. Microestructura y Sistemas de Trading\n"
   ]
  },
  {
   "cell_type": "code",
   "execution_count": 3,
   "metadata": {},
   "outputs": [],
   "source": [
    "import ccxt\n",
    "import pandas as pd\n",
    "import numpy as np\n",
    "\n",
    "def descargaOHLCV(crypto):\n",
    "    bequant = ccxt.bequant()\n",
    "    datos = bequant.fetch_ohlcv(crypto, timeframe = \"1m\")\n",
    "    \n",
    "    for i in range(len(datos)):\n",
    "        datos[i][0] = bequant.iso8601(datos[i][0])\n",
    "        \n",
    "    datosCrypto = pd.DataFrame(datos)\n",
    "    datosCrypto.set_index([0], inplace = True)\n",
    "    datosCrypto.columns = [\"Open\", \"High\", \"Low\", \"Close\", \"Volume\"]\n",
    "    datosCrypto.index.name = \"Timestamp\"\n",
    "    \n",
    "    return datosCrypto\n",
    "\n",
    "def descargaOrderBook(crypto, level):\n",
    "    bequant = ccxt.bequant()\n",
    "    datos = bequant.fetch_order_book(crypto, limit = level)\n",
    "    datosCrypto = pd.DataFrame(index = [0], \n",
    "                           columns = [\"Level\", \"Ask Volume\", \"Bid Volume\", \"Total Volume\", \"Mid Price\", \"VWAP\"])\n",
    "\n",
    "    datosCrypto[\"Level\"] = level\n",
    "    datosCrypto[\"Ask Volume\"] = np.sum([ask[1] for ask in datos[\"asks\"]])\n",
    "    datosCrypto[\"Bid Volume\"] = np.sum([bid[1] for bid in datos[\"bids\"]])\n",
    "    datosCrypto[\"Total Volume\"] = np.sum([ask[1] for ask in datos[\"asks\"]]) + np.sum([bid[1] for bid in datos[\"bids\"]])\n",
    "    datosCrypto[\"Mid Price\"] = 0.5 * (-datos[\"bids\"][0][0] + datos[\"asks\"][0][0])\n",
    "    datosCrypto[\"VWAP\"] = (np.sum([ask[0] * ask[1] for ask in datos[\"asks\"]]) + np.sum([bid[0] * bid[1] for bid in datos[\"bids\"]])) / datosCrypto[\"Total Volume\"]\n",
    "\n",
    "    return datosCrypto\n",
    "\n",
    "def effectiveSpreadRoll(crypto):\n",
    "    crypto[\"Delta (Close)\"] = crypto[\"Close\"].diff()\n",
    "    crypto[\"Spread Roll\"] = 0\n",
    "\n",
    "    for i in range(len(litecoin)):\n",
    "        if i > 10:\n",
    "            serie1 = crypto.iloc[i - 5 : i, 5].values\n",
    "            serie2 = crypto.iloc[i - 10: i - 5, 5].values\n",
    "            covarianza = np.cov(serie1, serie2)\n",
    "        \n",
    "            crypto.iloc[i, 6] = 2 * (abs(covarianza[1, 0])) ** 0.5\n",
    "        \n",
    "    return crypto"
   ]
  },
  {
   "cell_type": "markdown",
   "metadata": {},
   "source": [
    "## Parte 1. CCXT"
   ]
  },
  {
   "cell_type": "markdown",
   "metadata": {},
   "source": [
    "### LTC/USD: Litecoin"
   ]
  },
  {
   "cell_type": "code",
   "execution_count": 4,
   "metadata": {},
   "outputs": [
    {
     "data": {
      "text/html": [
       "<div>\n",
       "<style scoped>\n",
       "    .dataframe tbody tr th:only-of-type {\n",
       "        vertical-align: middle;\n",
       "    }\n",
       "\n",
       "    .dataframe tbody tr th {\n",
       "        vertical-align: top;\n",
       "    }\n",
       "\n",
       "    .dataframe thead th {\n",
       "        text-align: right;\n",
       "    }\n",
       "</style>\n",
       "<table border=\"1\" class=\"dataframe\">\n",
       "  <thead>\n",
       "    <tr style=\"text-align: right;\">\n",
       "      <th></th>\n",
       "      <th>Level</th>\n",
       "      <th>Ask Volume</th>\n",
       "      <th>Bid Volume</th>\n",
       "      <th>Total Volume</th>\n",
       "      <th>Mid Price</th>\n",
       "      <th>VWAP</th>\n",
       "    </tr>\n",
       "  </thead>\n",
       "  <tbody>\n",
       "    <tr>\n",
       "      <th>0</th>\n",
       "      <td>10</td>\n",
       "      <td>69.358</td>\n",
       "      <td>89.658</td>\n",
       "      <td>159.016</td>\n",
       "      <td>0.0185</td>\n",
       "      <td>102.707998</td>\n",
       "    </tr>\n",
       "  </tbody>\n",
       "</table>\n",
       "</div>"
      ],
      "text/plain": [
       "   Level  Ask Volume  Bid Volume  Total Volume  Mid Price        VWAP\n",
       "0     10      69.358      89.658       159.016     0.0185  102.707998"
      ]
     },
     "execution_count": 4,
     "metadata": {},
     "output_type": "execute_result"
    }
   ],
   "source": [
    "descargaOrderBook(\"LTCUSD\", 10)"
   ]
  },
  {
   "cell_type": "markdown",
   "metadata": {},
   "source": [
    "### ADA/USD: Cardano"
   ]
  },
  {
   "cell_type": "code",
   "execution_count": 5,
   "metadata": {},
   "outputs": [
    {
     "data": {
      "text/html": [
       "<div>\n",
       "<style scoped>\n",
       "    .dataframe tbody tr th:only-of-type {\n",
       "        vertical-align: middle;\n",
       "    }\n",
       "\n",
       "    .dataframe tbody tr th {\n",
       "        vertical-align: top;\n",
       "    }\n",
       "\n",
       "    .dataframe thead th {\n",
       "        text-align: right;\n",
       "    }\n",
       "</style>\n",
       "<table border=\"1\" class=\"dataframe\">\n",
       "  <thead>\n",
       "    <tr style=\"text-align: right;\">\n",
       "      <th></th>\n",
       "      <th>Level</th>\n",
       "      <th>Ask Volume</th>\n",
       "      <th>Bid Volume</th>\n",
       "      <th>Total Volume</th>\n",
       "      <th>Mid Price</th>\n",
       "      <th>VWAP</th>\n",
       "    </tr>\n",
       "  </thead>\n",
       "  <tbody>\n",
       "    <tr>\n",
       "      <th>0</th>\n",
       "      <td>10</td>\n",
       "      <td>7703.0</td>\n",
       "      <td>7378.0</td>\n",
       "      <td>15081.0</td>\n",
       "      <td>0.00005</td>\n",
       "      <td>0.833077</td>\n",
       "    </tr>\n",
       "  </tbody>\n",
       "</table>\n",
       "</div>"
      ],
      "text/plain": [
       "   Level  Ask Volume  Bid Volume  Total Volume  Mid Price      VWAP\n",
       "0     10      7703.0      7378.0       15081.0    0.00005  0.833077"
      ]
     },
     "execution_count": 5,
     "metadata": {},
     "output_type": "execute_result"
    }
   ],
   "source": [
    "descargaOrderBook(\"ADAUSD\", 10)"
   ]
  },
  {
   "cell_type": "markdown",
   "metadata": {},
   "source": [
    "### BTC/USD: Bitcoin"
   ]
  },
  {
   "cell_type": "code",
   "execution_count": 6,
   "metadata": {},
   "outputs": [
    {
     "data": {
      "text/html": [
       "<div>\n",
       "<style scoped>\n",
       "    .dataframe tbody tr th:only-of-type {\n",
       "        vertical-align: middle;\n",
       "    }\n",
       "\n",
       "    .dataframe tbody tr th {\n",
       "        vertical-align: top;\n",
       "    }\n",
       "\n",
       "    .dataframe thead th {\n",
       "        text-align: right;\n",
       "    }\n",
       "</style>\n",
       "<table border=\"1\" class=\"dataframe\">\n",
       "  <thead>\n",
       "    <tr style=\"text-align: right;\">\n",
       "      <th></th>\n",
       "      <th>Level</th>\n",
       "      <th>Ask Volume</th>\n",
       "      <th>Bid Volume</th>\n",
       "      <th>Total Volume</th>\n",
       "      <th>Mid Price</th>\n",
       "      <th>VWAP</th>\n",
       "    </tr>\n",
       "  </thead>\n",
       "  <tbody>\n",
       "    <tr>\n",
       "      <th>0</th>\n",
       "      <td>10</td>\n",
       "      <td>1.94066</td>\n",
       "      <td>1.7521</td>\n",
       "      <td>3.69276</td>\n",
       "      <td>2.03</td>\n",
       "      <td>39464.214061</td>\n",
       "    </tr>\n",
       "  </tbody>\n",
       "</table>\n",
       "</div>"
      ],
      "text/plain": [
       "   Level  Ask Volume  Bid Volume  Total Volume  Mid Price          VWAP\n",
       "0     10     1.94066      1.7521       3.69276       2.03  39464.214061"
      ]
     },
     "execution_count": 6,
     "metadata": {},
     "output_type": "execute_result"
    }
   ],
   "source": [
    "descargaOrderBook(\"BTCUSD\", 10)"
   ]
  },
  {
   "cell_type": "markdown",
   "metadata": {},
   "source": [
    "## Parte 3. Modelado Microestructura: Effective Spread Roll"
   ]
  },
  {
   "cell_type": "markdown",
   "metadata": {},
   "source": [
    "### LTC/USD: Litecoin"
   ]
  },
  {
   "cell_type": "code",
   "execution_count": 2,
   "metadata": {
    "scrolled": false
   },
   "outputs": [
    {
     "data": {
      "text/html": [
       "<div>\n",
       "<style scoped>\n",
       "    .dataframe tbody tr th:only-of-type {\n",
       "        vertical-align: middle;\n",
       "    }\n",
       "\n",
       "    .dataframe tbody tr th {\n",
       "        vertical-align: top;\n",
       "    }\n",
       "\n",
       "    .dataframe thead th {\n",
       "        text-align: right;\n",
       "    }\n",
       "</style>\n",
       "<table border=\"1\" class=\"dataframe\">\n",
       "  <thead>\n",
       "    <tr style=\"text-align: right;\">\n",
       "      <th></th>\n",
       "      <th>Close</th>\n",
       "      <th>Spread Roll</th>\n",
       "    </tr>\n",
       "    <tr>\n",
       "      <th>Timestamp</th>\n",
       "      <th></th>\n",
       "      <th></th>\n",
       "    </tr>\n",
       "  </thead>\n",
       "  <tbody>\n",
       "    <tr>\n",
       "      <th>2014-02-07T18:21:00.000Z</th>\n",
       "      <td>15.000</td>\n",
       "      <td>0.000000</td>\n",
       "    </tr>\n",
       "    <tr>\n",
       "      <th>2014-02-08T20:03:00.000Z</th>\n",
       "      <td>20.000</td>\n",
       "      <td>0.000000</td>\n",
       "    </tr>\n",
       "    <tr>\n",
       "      <th>2014-02-11T12:58:00.000Z</th>\n",
       "      <td>18.438</td>\n",
       "      <td>0.000000</td>\n",
       "    </tr>\n",
       "    <tr>\n",
       "      <th>2014-02-11T13:31:00.000Z</th>\n",
       "      <td>18.252</td>\n",
       "      <td>0.000000</td>\n",
       "    </tr>\n",
       "    <tr>\n",
       "      <th>2014-02-11T14:15:00.000Z</th>\n",
       "      <td>18.260</td>\n",
       "      <td>0.000000</td>\n",
       "    </tr>\n",
       "    <tr>\n",
       "      <th>...</th>\n",
       "      <td>...</td>\n",
       "      <td>...</td>\n",
       "    </tr>\n",
       "    <tr>\n",
       "      <th>2014-02-12T10:27:00.000Z</th>\n",
       "      <td>16.736</td>\n",
       "      <td>0.126116</td>\n",
       "    </tr>\n",
       "    <tr>\n",
       "      <th>2014-02-12T11:11:00.000Z</th>\n",
       "      <td>16.947</td>\n",
       "      <td>0.022068</td>\n",
       "    </tr>\n",
       "    <tr>\n",
       "      <th>2014-02-12T11:21:00.000Z</th>\n",
       "      <td>16.881</td>\n",
       "      <td>0.111175</td>\n",
       "    </tr>\n",
       "    <tr>\n",
       "      <th>2014-02-12T11:34:00.000Z</th>\n",
       "      <td>16.830</td>\n",
       "      <td>0.035415</td>\n",
       "    </tr>\n",
       "    <tr>\n",
       "      <th>2014-02-12T11:40:00.000Z</th>\n",
       "      <td>16.858</td>\n",
       "      <td>0.101612</td>\n",
       "    </tr>\n",
       "  </tbody>\n",
       "</table>\n",
       "<p>100 rows × 2 columns</p>\n",
       "</div>"
      ],
      "text/plain": [
       "                           Close  Spread Roll\n",
       "Timestamp                                    \n",
       "2014-02-07T18:21:00.000Z  15.000     0.000000\n",
       "2014-02-08T20:03:00.000Z  20.000     0.000000\n",
       "2014-02-11T12:58:00.000Z  18.438     0.000000\n",
       "2014-02-11T13:31:00.000Z  18.252     0.000000\n",
       "2014-02-11T14:15:00.000Z  18.260     0.000000\n",
       "...                          ...          ...\n",
       "2014-02-12T10:27:00.000Z  16.736     0.126116\n",
       "2014-02-12T11:11:00.000Z  16.947     0.022068\n",
       "2014-02-12T11:21:00.000Z  16.881     0.111175\n",
       "2014-02-12T11:34:00.000Z  16.830     0.035415\n",
       "2014-02-12T11:40:00.000Z  16.858     0.101612\n",
       "\n",
       "[100 rows x 2 columns]"
      ]
     },
     "execution_count": 2,
     "metadata": {},
     "output_type": "execute_result"
    }
   ],
   "source": [
    "litecoin = descargaOHLCV(\"LTCUSD\")\n",
    "litecoin = effectiveSpreadRoll(litecoin)\n",
    "litecoin = litecoin[[\"Close\", \"Spread Roll\"]]\n",
    "litecoin"
   ]
  },
  {
   "cell_type": "markdown",
   "metadata": {},
   "source": [
    "### ADA/USD: Cardano"
   ]
  },
  {
   "cell_type": "code",
   "execution_count": 3,
   "metadata": {},
   "outputs": [
    {
     "data": {
      "text/html": [
       "<div>\n",
       "<style scoped>\n",
       "    .dataframe tbody tr th:only-of-type {\n",
       "        vertical-align: middle;\n",
       "    }\n",
       "\n",
       "    .dataframe tbody tr th {\n",
       "        vertical-align: top;\n",
       "    }\n",
       "\n",
       "    .dataframe thead th {\n",
       "        text-align: right;\n",
       "    }\n",
       "</style>\n",
       "<table border=\"1\" class=\"dataframe\">\n",
       "  <thead>\n",
       "    <tr style=\"text-align: right;\">\n",
       "      <th></th>\n",
       "      <th>Close</th>\n",
       "      <th>Spread Roll</th>\n",
       "    </tr>\n",
       "    <tr>\n",
       "      <th>Timestamp</th>\n",
       "      <th></th>\n",
       "      <th></th>\n",
       "    </tr>\n",
       "  </thead>\n",
       "  <tbody>\n",
       "    <tr>\n",
       "      <th>2018-02-26T18:32:00.000Z</th>\n",
       "      <td>0.500000</td>\n",
       "      <td>0.000000</td>\n",
       "    </tr>\n",
       "    <tr>\n",
       "      <th>2018-02-26T18:34:00.000Z</th>\n",
       "      <td>0.500000</td>\n",
       "      <td>0.000000</td>\n",
       "    </tr>\n",
       "    <tr>\n",
       "      <th>2018-02-26T18:35:00.000Z</th>\n",
       "      <td>0.360000</td>\n",
       "      <td>0.000000</td>\n",
       "    </tr>\n",
       "    <tr>\n",
       "      <th>2018-02-26T18:37:00.000Z</th>\n",
       "      <td>0.500000</td>\n",
       "      <td>0.000000</td>\n",
       "    </tr>\n",
       "    <tr>\n",
       "      <th>2018-02-26T18:38:00.000Z</th>\n",
       "      <td>0.499999</td>\n",
       "      <td>0.000000</td>\n",
       "    </tr>\n",
       "    <tr>\n",
       "      <th>...</th>\n",
       "      <td>...</td>\n",
       "      <td>...</td>\n",
       "    </tr>\n",
       "    <tr>\n",
       "      <th>2018-02-26T23:29:00.000Z</th>\n",
       "      <td>0.340000</td>\n",
       "      <td>0.012539</td>\n",
       "    </tr>\n",
       "    <tr>\n",
       "      <th>2018-02-26T23:30:00.000Z</th>\n",
       "      <td>0.350000</td>\n",
       "      <td>0.012539</td>\n",
       "    </tr>\n",
       "    <tr>\n",
       "      <th>2018-02-26T23:31:00.000Z</th>\n",
       "      <td>0.345000</td>\n",
       "      <td>0.011991</td>\n",
       "    </tr>\n",
       "    <tr>\n",
       "      <th>2018-02-26T23:32:00.000Z</th>\n",
       "      <td>0.345000</td>\n",
       "      <td>0.008944</td>\n",
       "    </tr>\n",
       "    <tr>\n",
       "      <th>2018-02-26T23:33:00.000Z</th>\n",
       "      <td>0.345002</td>\n",
       "      <td>0.003493</td>\n",
       "    </tr>\n",
       "  </tbody>\n",
       "</table>\n",
       "<p>100 rows × 2 columns</p>\n",
       "</div>"
      ],
      "text/plain": [
       "                             Close  Spread Roll\n",
       "Timestamp                                      \n",
       "2018-02-26T18:32:00.000Z  0.500000     0.000000\n",
       "2018-02-26T18:34:00.000Z  0.500000     0.000000\n",
       "2018-02-26T18:35:00.000Z  0.360000     0.000000\n",
       "2018-02-26T18:37:00.000Z  0.500000     0.000000\n",
       "2018-02-26T18:38:00.000Z  0.499999     0.000000\n",
       "...                            ...          ...\n",
       "2018-02-26T23:29:00.000Z  0.340000     0.012539\n",
       "2018-02-26T23:30:00.000Z  0.350000     0.012539\n",
       "2018-02-26T23:31:00.000Z  0.345000     0.011991\n",
       "2018-02-26T23:32:00.000Z  0.345000     0.008944\n",
       "2018-02-26T23:33:00.000Z  0.345002     0.003493\n",
       "\n",
       "[100 rows x 2 columns]"
      ]
     },
     "execution_count": 3,
     "metadata": {},
     "output_type": "execute_result"
    }
   ],
   "source": [
    "cardano = descargaOHLCV(\"ADAUSD\")\n",
    "cardano = effectiveSpreadRoll(cardano)\n",
    "cardano = cardano[[\"Close\", \"Spread Roll\"]]\n",
    "cardano"
   ]
  },
  {
   "cell_type": "markdown",
   "metadata": {},
   "source": [
    "### BTC/USD: Bitcoin"
   ]
  },
  {
   "cell_type": "code",
   "execution_count": 4,
   "metadata": {},
   "outputs": [
    {
     "data": {
      "text/html": [
       "<div>\n",
       "<style scoped>\n",
       "    .dataframe tbody tr th:only-of-type {\n",
       "        vertical-align: middle;\n",
       "    }\n",
       "\n",
       "    .dataframe tbody tr th {\n",
       "        vertical-align: top;\n",
       "    }\n",
       "\n",
       "    .dataframe thead th {\n",
       "        text-align: right;\n",
       "    }\n",
       "</style>\n",
       "<table border=\"1\" class=\"dataframe\">\n",
       "  <thead>\n",
       "    <tr style=\"text-align: right;\">\n",
       "      <th></th>\n",
       "      <th>Close</th>\n",
       "      <th>Spread Roll</th>\n",
       "    </tr>\n",
       "    <tr>\n",
       "      <th>Timestamp</th>\n",
       "      <th></th>\n",
       "      <th></th>\n",
       "    </tr>\n",
       "  </thead>\n",
       "  <tbody>\n",
       "    <tr>\n",
       "      <th>2013-12-27T08:23:00.000Z</th>\n",
       "      <td>777.00</td>\n",
       "      <td>0.000000</td>\n",
       "    </tr>\n",
       "    <tr>\n",
       "      <th>2013-12-27T08:24:00.000Z</th>\n",
       "      <td>778.00</td>\n",
       "      <td>0.000000</td>\n",
       "    </tr>\n",
       "    <tr>\n",
       "      <th>2013-12-27T08:25:00.000Z</th>\n",
       "      <td>777.00</td>\n",
       "      <td>0.000000</td>\n",
       "    </tr>\n",
       "    <tr>\n",
       "      <th>2013-12-27T08:26:00.000Z</th>\n",
       "      <td>778.00</td>\n",
       "      <td>0.000000</td>\n",
       "    </tr>\n",
       "    <tr>\n",
       "      <th>2013-12-27T08:34:00.000Z</th>\n",
       "      <td>779.00</td>\n",
       "      <td>0.000000</td>\n",
       "    </tr>\n",
       "    <tr>\n",
       "      <th>...</th>\n",
       "      <td>...</td>\n",
       "      <td>...</td>\n",
       "    </tr>\n",
       "    <tr>\n",
       "      <th>2013-12-27T19:58:00.000Z</th>\n",
       "      <td>700.10</td>\n",
       "      <td>47.056774</td>\n",
       "    </tr>\n",
       "    <tr>\n",
       "      <th>2013-12-27T19:59:00.000Z</th>\n",
       "      <td>731.98</td>\n",
       "      <td>55.802713</td>\n",
       "    </tr>\n",
       "    <tr>\n",
       "      <th>2013-12-27T20:00:00.000Z</th>\n",
       "      <td>735.83</td>\n",
       "      <td>57.792516</td>\n",
       "    </tr>\n",
       "    <tr>\n",
       "      <th>2013-12-27T20:01:00.000Z</th>\n",
       "      <td>736.45</td>\n",
       "      <td>58.065022</td>\n",
       "    </tr>\n",
       "    <tr>\n",
       "      <th>2013-12-27T20:02:00.000Z</th>\n",
       "      <td>702.47</td>\n",
       "      <td>45.581382</td>\n",
       "    </tr>\n",
       "  </tbody>\n",
       "</table>\n",
       "<p>100 rows × 2 columns</p>\n",
       "</div>"
      ],
      "text/plain": [
       "                           Close  Spread Roll\n",
       "Timestamp                                    \n",
       "2013-12-27T08:23:00.000Z  777.00     0.000000\n",
       "2013-12-27T08:24:00.000Z  778.00     0.000000\n",
       "2013-12-27T08:25:00.000Z  777.00     0.000000\n",
       "2013-12-27T08:26:00.000Z  778.00     0.000000\n",
       "2013-12-27T08:34:00.000Z  779.00     0.000000\n",
       "...                          ...          ...\n",
       "2013-12-27T19:58:00.000Z  700.10    47.056774\n",
       "2013-12-27T19:59:00.000Z  731.98    55.802713\n",
       "2013-12-27T20:00:00.000Z  735.83    57.792516\n",
       "2013-12-27T20:01:00.000Z  736.45    58.065022\n",
       "2013-12-27T20:02:00.000Z  702.47    45.581382\n",
       "\n",
       "[100 rows x 2 columns]"
      ]
     },
     "execution_count": 4,
     "metadata": {},
     "output_type": "execute_result"
    }
   ],
   "source": [
    "bitcoin = descargaOHLCV(\"BTCUSD\")\n",
    "bitcoin = effectiveSpreadRoll(bitcoin)\n",
    "bitcoin = bitcoin[[\"Close\", \"Spread Roll\"]]\n",
    "bitcoin"
   ]
  }
 ],
 "metadata": {
  "kernelspec": {
   "display_name": "Python 3",
   "language": "python",
   "name": "python3"
  },
  "language_info": {
   "codemirror_mode": {
    "name": "ipython",
    "version": 3
   },
   "file_extension": ".py",
   "mimetype": "text/x-python",
   "name": "python",
   "nbconvert_exporter": "python",
   "pygments_lexer": "ipython3",
   "version": "3.8.3"
  }
 },
 "nbformat": 4,
 "nbformat_minor": 5
}
